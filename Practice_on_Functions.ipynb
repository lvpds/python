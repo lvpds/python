{
  "nbformat": 4,
  "nbformat_minor": 0,
  "metadata": {
    "colab": {
      "name": "Assignment_1.ipynb",
      "provenance": [],
      "collapsed_sections": []
    },
    "kernelspec": {
      "name": "python3",
      "display_name": "Python 3"
    },
    "language_info": {
      "name": "python"
    }
  },
  "cells": [
    {
      "cell_type": "code",
      "metadata": {
        "id": "jwQgRUS5Lm78",
        "colab": {
          "base_uri": "https://localhost:8080/"
        },
        "outputId": "efb6d612-e704-4f50-f7df-9dd18c279412"
      },
      "source": [
        "# 1. To print multiplication table for a number upto 10 items\n",
        "num=input(\"Enter a Number:\")\n",
        "for count in range(1,11,1):\n",
        "  result = int(num)*count\n",
        "  print(str(num)+\"*\"+str(count)+\"=\"+str(result))"
      ],
      "execution_count": 1,
      "outputs": [
        {
          "output_type": "stream",
          "text": [
            "Enter a Number:7\n",
            "7*1=7\n",
            "7*2=14\n",
            "7*3=21\n",
            "7*4=28\n",
            "7*5=35\n",
            "7*6=42\n",
            "7*7=49\n",
            "7*8=56\n",
            "7*9=63\n",
            "7*10=70\n"
          ],
          "name": "stdout"
        }
      ]
    },
    {
      "cell_type": "code",
      "metadata": {
        "id": "mEUFj1sQbYAk",
        "colab": {
          "base_uri": "https://localhost:8080/"
        },
        "outputId": "5f636a33-df90-4a6c-8e47-32f7e8dd3cb7"
      },
      "source": [
        "# 2. To print the twin prime numbers less than 1000\n",
        "primlist=[]\n",
        "twinprimlist=[]\n",
        "for i in range(1001):\n",
        "  prime=0\n",
        "  for j in range(2,i//2+1,1):\n",
        "    if i%j==0:\n",
        "      prime=1\n",
        "      break\n",
        "  if prime==0:\n",
        "    primlist.append(i)    \n",
        "for count in range(len(primlist)):\n",
        "  if count>0 and count<len(primlist)-1:\n",
        "    if int(primlist[count])-int(primlist[count-1])==2:\n",
        "      twinprimlist.append(primlist[count-1])\n",
        "      twinprimlist.append(primlist[count]) \n",
        "print(\"The twin primes less than thousand are:\")\n",
        "print(twinprimlist)\n",
        "\n",
        "\n"
      ],
      "execution_count": 3,
      "outputs": [
        {
          "output_type": "stream",
          "text": [
            "The twin primes less than thousand are:\n",
            "[3, 5, 5, 7, 11, 13, 17, 19, 29, 31, 41, 43, 59, 61, 71, 73, 101, 103, 107, 109, 137, 139, 149, 151, 179, 181, 191, 193, 197, 199, 227, 229, 239, 241, 269, 271, 281, 283, 311, 313, 347, 349, 419, 421, 431, 433, 461, 463, 521, 523, 569, 571, 599, 601, 617, 619, 641, 643, 659, 661, 809, 811, 821, 823, 827, 829, 857, 859, 881, 883]\n"
          ],
          "name": "stdout"
        }
      ]
    },
    {
      "cell_type": "code",
      "metadata": {
        "id": "W06W_Yll192Z",
        "colab": {
          "base_uri": "https://localhost:8080/"
        },
        "outputId": "53c56a4b-fde3-463f-d78a-481a9983dd00"
      },
      "source": [
        "# 3. To print the prime factors for a number\n",
        "def prinum(count,number):\n",
        "  prime=0\n",
        "  for i in range(2,count//2+1,1):\n",
        "        if count%i==0:\n",
        "          prime=1\n",
        "          break\n",
        "  if prime==0:\n",
        "    print(count)\n",
        "    number=number//count\n",
        "    if number%count==0:\n",
        "      prinum(count,number)\n",
        "                                                                                                                                                                                                                                                                                                                                                                                                                                                                                                                                                                                                                                                                                                                                                                    \n",
        "num=input(\"Enter a Number:\")\n",
        "number = int(num)\n",
        "for count in range(2,number//2+1,1):\n",
        "      if number%count==0:\n",
        "        prinum(count,number)\n",
        "      "
      ],
      "execution_count": 4,
      "outputs": [
        {
          "output_type": "stream",
          "text": [
            "Enter a Number:56\n",
            "2\n",
            "2\n",
            "2\n",
            "7\n"
          ],
          "name": "stdout"
        }
      ]
    },
    {
      "cell_type": "code",
      "metadata": {
        "id": "Ql17bwtPFQgl",
        "colab": {
          "base_uri": "https://localhost:8080/"
        },
        "outputId": "4c8c9a24-6533-4d87-c719-db78a6ba50f9"
      },
      "source": [
        "# 4. To execute permutations and combunations formulas\n",
        "def factorfunc(number):\n",
        "  value=1\n",
        "  for i in range(1,number+1,1):\n",
        "    value=value*i\n",
        "  return value\n",
        "\n",
        "n=int(input(\"Enter number of total objects:\")) \n",
        "r=int(input(\"Enter number of chosen objects:\")) \n",
        "noofpermutations=factorfunc(n)//factorfunc(n-r)\n",
        "noofcombinations=factorfunc(n)//(factorfunc(r)*factorfunc(n-r))\n",
        "print(\"No of Permutations:\"+\" \"+str(noofpermutations))\n",
        "print(\"No of Combinations:\"+\" \"+str(noofcombinations))\n",
        "\n",
        "\n"
      ],
      "execution_count": 5,
      "outputs": [
        {
          "output_type": "stream",
          "text": [
            "Enter number of total objects:10\n",
            "Enter number of chosen objects:4\n",
            "No of Permutations: 5040\n",
            "No of Combinations: 210\n"
          ],
          "name": "stdout"
        }
      ]
    },
    {
      "cell_type": "code",
      "metadata": {
        "id": "eTf8pgDfXsiN",
        "colab": {
          "base_uri": "https://localhost:8080/"
        },
        "outputId": "a741587e-59a1-49e2-9c64-ef1731b0c57f"
      },
      "source": [
        "# 5. To convert decimal value to binary value\n",
        "number=int(input(\"Enter a number:\"))\n",
        "remainderlist=[]\n",
        "while number!=0:\n",
        "  remainder=number%2\n",
        "  number=number//2\n",
        "  remainderlist.append(remainder)\n",
        "remainderlist.reverse()\n",
        "print(\"Binary format of Number is:\")\n",
        "print(remainderlist)\n"
      ],
      "execution_count": 6,
      "outputs": [
        {
          "output_type": "stream",
          "text": [
            "Enter a number:100\n",
            "Binary format of Number is:\n",
            "[1, 1, 0, 0, 1, 0, 0]\n"
          ],
          "name": "stdout"
        }
      ]
    },
    {
      "cell_type": "code",
      "metadata": {
        "id": "Z2iiaSpfByk5",
        "colab": {
          "base_uri": "https://localhost:8080/"
        },
        "outputId": "056e2d92-be8f-4819-cd98-5fc3a1f35249"
      },
      "source": [
        "# 6. To validate whether given number is armstrong number or not\n",
        "\n",
        "def cubesum():\n",
        "  value=0\n",
        "  for i in range(len(number)):\n",
        "    value=value+int(number[i])**3\n",
        "  return value\n",
        "\n",
        "def isArmstrong():\n",
        "  frmcubesum=cubesum()\n",
        "  if frmcubesum==int(number):\n",
        "    return True\n",
        "  else:\n",
        "    return False  \n",
        "\n",
        "def PrintArmstrong():\n",
        "  flag=isArmstrong()\n",
        "  if flag==True:\n",
        "    print(\"Number \"+number+\" is an Armstrong number\")\n",
        "  else:\n",
        "    print(\"Number \"+number+\" is not an Armstrong number\")\n",
        "\n",
        "number=input(\"Enter an integer number:\")\n",
        "PrintArmstrong()\n"
      ],
      "execution_count": 7,
      "outputs": [
        {
          "output_type": "stream",
          "text": [
            "Enter an integer number:153\n",
            "Number 153 is an Armstrong number\n"
          ],
          "name": "stdout"
        }
      ]
    },
    {
      "cell_type": "code",
      "metadata": {
        "id": "qeAhG5JOIoOy",
        "colab": {
          "base_uri": "https://localhost:8080/"
        },
        "outputId": "ae382f1d-0fd6-4d06-e43f-70dd98e1f346"
      },
      "source": [
        "# 7. To find product of the digits of any number\n",
        "def prodDigits(num):\n",
        "  value=1\n",
        "  for i in range(len(num)):\n",
        "    value=value*int(num[i])\n",
        "  return value\n",
        "\n",
        "number=input(\"Enter a number:\")\n",
        "product=prodDigits(number)\n",
        "print(\"Product of all digits of the number is: \"+str(product))"
      ],
      "execution_count": 8,
      "outputs": [
        {
          "output_type": "stream",
          "text": [
            "Enter a number:38\n",
            "Product of all digits of the number is: 24\n"
          ],
          "name": "stdout"
        }
      ]
    },
    {
      "cell_type": "code",
      "metadata": {
        "id": "tAnaYjIIJ_Y4",
        "colab": {
          "base_uri": "https://localhost:8080/"
        },
        "outputId": "c084c65b-710d-4a2a-d7e8-8d09093d5d00"
      },
      "source": [
        "# 8. To find MDR and MPersistence\n",
        "def MDR(num, Mpersist):\n",
        "  Mpersist+=1\n",
        "  Mplication=prodDigits(num)\n",
        "  if Mplication>9:\n",
        "    MDR(str(Mplication), Mpersist)\n",
        "  else:\n",
        "    print(\"MDR is: \"+str(Mplication))\n",
        "    print(\"MPersistence is: \"+str(Mpersist))\n",
        "\n",
        "number=input(\"Enter a number:\")\n",
        "MPersistence=0\n",
        "MDR(number,MPersistence)\n",
        "\n"
      ],
      "execution_count": 9,
      "outputs": [
        {
          "output_type": "stream",
          "text": [
            "Enter a number:86\n",
            "MDR is: 6\n",
            "MPersistence is: 3\n"
          ],
          "name": "stdout"
        }
      ]
    },
    {
      "cell_type": "code",
      "metadata": {
        "id": "aXPyErefV0KF",
        "colab": {
          "base_uri": "https://localhost:8080/"
        },
        "outputId": "0f322e37-f611-4b29-d962-96d3a5d6389a"
      },
      "source": [
        "# 9. To find out the sum of the proper divisiors of a number\n",
        "def sumPdivisors(number):\n",
        "  sum=0\n",
        "  for i in range(1,number//2+1,1):\n",
        "    if number%i==0:\n",
        "      sum+=i\n",
        "  return sum\n",
        "\n",
        "num=int(input(\"Enter a Number:\"))\n",
        "addition=sumPdivisors(num)\n",
        "print(\"The sum of proper divisiors is:\"+str(addition))"
      ],
      "execution_count": 10,
      "outputs": [
        {
          "output_type": "stream",
          "text": [
            "Enter a Number:36\n",
            "The sum of proper divisiors is:55\n"
          ],
          "name": "stdout"
        }
      ]
    },
    {
      "cell_type": "code",
      "metadata": {
        "id": "FRvrBFNZYF8D",
        "colab": {
          "base_uri": "https://localhost:8080/"
        },
        "outputId": "5c945689-8238-49e3-b262-c7ce5f3d57d3"
      },
      "source": [
        "# 10. To print all the perfect number with in the given range\n",
        "def isPerfectNumber(num):\n",
        "  summation=sumPdivisors(num)\n",
        "  if summation==num:\n",
        "    return True\n",
        "  else:\n",
        "    return False\n",
        "\n",
        "def PrntprfctNumbr():\n",
        "  minNum=int(input(\"Enter minimum value in the range:\"))\n",
        "  maxNum=int(input(\"Enter maximum value in the range:\"))\n",
        "  if minNum<maxNum:\n",
        "    for i in range(minNum,maxNum+1,1):\n",
        "      flag=isPerfectNumber(i)\n",
        "      if flag==True:\n",
        "        print(str(i)+\" is perfect number\")\n",
        "  else:\n",
        "    print(\"You entered wrong values. Please enter correct minimum and maximum values for the range\")\n",
        "\n",
        "PrntprfctNumbr()\n"
      ],
      "execution_count": 11,
      "outputs": [
        {
          "output_type": "stream",
          "text": [
            "Enter minimum value in the range:1\n",
            "Enter maximum value in the range:100\n",
            "6 is perfect number\n",
            "28 is perfect number\n"
          ],
          "name": "stdout"
        }
      ]
    },
    {
      "cell_type": "code",
      "metadata": {
        "id": "pvtHACnqHyr1",
        "colab": {
          "base_uri": "https://localhost:8080/"
        },
        "outputId": "40210fcc-acd9-45ed-ac0c-b1ad7fd9e248"
      },
      "source": [
        "# 11. To print Amicable numbers in certain range\n",
        "def PrntAmcablNumbr():\n",
        "  minNum=int(input(\"Enter minimum value in the range:\"))\n",
        "  maxNum=int(input(\"Enter maximum value in the range:\"))\n",
        "  resultlst=[]\n",
        "  if minNum<maxNum:\n",
        "    for i in range(minNum,maxNum+1,1):\n",
        "      flag=isPerfectNumber(i)\n",
        "      if flag==False:\n",
        "        sum1=sumPdivisors(i)\n",
        "        sum2=sumPdivisors(sum1)\n",
        "        if sum2==i:\n",
        "          if len(resultlst)==0:           \n",
        "            resultlst.append(i)\n",
        "            resultlst.append(sum1)\n",
        "          else:\n",
        "            for item in resultlst:\n",
        "              if item==i:\n",
        "                flag=False\n",
        "                break\n",
        "            if flag==True:\n",
        "              resultlst.append(i)\n",
        "              resultlst.append(sum1)\n",
        "    print(resultlst)\n",
        "\n",
        "PrntAmcablNumbr()\n"
      ],
      "execution_count": 12,
      "outputs": [
        {
          "output_type": "stream",
          "text": [
            "Enter minimum value in the range:200\n",
            "Enter maximum value in the range:300\n",
            "[220, 284]\n"
          ],
          "name": "stdout"
        }
      ]
    },
    {
      "cell_type": "code",
      "metadata": {
        "id": "6nxH9suPVSuE",
        "colab": {
          "base_uri": "https://localhost:8080/"
        },
        "outputId": "72187270-f9c9-411d-cf8f-d2ec3ca72ed9"
      },
      "source": [
        "# 12. To filter the odd numbers in in the given list using filter function\n",
        "def findOddNum(numbr):\n",
        "  if int(numbr)%2!=0:\n",
        "    return True\n",
        "\n",
        "numlst=[21,1,2,3,4,5,6,7,8,9,0,32,34,54,63,31,51,53,45,77,86,93]\n",
        "oddnumlst=list(filter(findOddNum,numlst))\n",
        "print(\"List of odd numbers is:\")\n",
        "print(oddnumlst)"
      ],
      "execution_count": 14,
      "outputs": [
        {
          "output_type": "stream",
          "text": [
            "List of odd numbers is:\n",
            "[21, 1, 3, 5, 7, 9, 63, 31, 51, 53, 45, 77, 93]\n"
          ],
          "name": "stdout"
        }
      ]
    },
    {
      "cell_type": "code",
      "metadata": {
        "id": "ooVIzeqbalKi",
        "colab": {
          "base_uri": "https://localhost:8080/"
        },
        "outputId": "81621ccc-a5be-4596-f852-9071e7efdc9d"
      },
      "source": [
        "# 13. To map cube of the elements for the given list\n",
        "def cubcnum(numbr):\n",
        "  return int(numbr)**3\n",
        "\n",
        "lst=input(\"Enter a list of numbers:\")\n",
        "numlst=lst.split(\",\")\n",
        "cubelst=list(map(cubcnum,numlst))\n",
        "print(\"Cube of the given number list is:\")\n",
        "print(cubelst)"
      ],
      "execution_count": 16,
      "outputs": [
        {
          "output_type": "stream",
          "text": [
            "Enter a list of numbers:21,1,2,3,4,5,6,7,8,9,0,32,34,54,63,31,51,53,45,77,86,93\n",
            "Cube of the given number list is:\n",
            "[9261, 1, 8, 27, 64, 125, 216, 343, 512, 729, 0, 32768, 39304, 157464, 250047, 29791, 132651, 148877, 91125, 456533, 636056, 804357]\n"
          ],
          "name": "stdout"
        }
      ]
    },
    {
      "cell_type": "code",
      "metadata": {
        "id": "4jgO-G2KdVf1",
        "colab": {
          "base_uri": "https://localhost:8080/"
        },
        "outputId": "57896715-ef2f-48f4-d0e8-e927cffca6e4"
      },
      "source": [
        "# 14. To find out even mumbers in the given list using filter function and print the cubes of the list using map function\n",
        "def findevnnum(numbr):\n",
        "  if int(numbr)%2==0:\n",
        "    return True\n",
        "\n",
        "lst=input(\"Enter a list of numbers:\")\n",
        "numlst=lst.split(\",\")\n",
        "evnnumlst=list(filter(findevnnum,numlst))\n",
        "cubeevnlst=list(map(cubcnum,evnnumlst))\n",
        "print(\"Cube of the even numbers in the given list:\")\n",
        "print(cubeevnlst)"
      ],
      "execution_count": 18,
      "outputs": [
        {
          "output_type": "stream",
          "text": [
            "Enter a list of numbers:21,1,2,3,4,5,6,7,8,9,0,32,34,54,63,31,51,53,45,77,86,93\n",
            "Cube of the even numbers in the given list:\n",
            "[8, 64, 216, 512, 0, 32768, 39304, 157464, 636056]\n"
          ],
          "name": "stdout"
        }
      ]
    }
  ]
}