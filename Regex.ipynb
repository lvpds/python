{
  "nbformat": 4,
  "nbformat_minor": 0,
  "metadata": {
    "kernelspec": {
      "display_name": "Python 3",
      "language": "python",
      "name": "python3"
    },
    "language_info": {
      "codemirror_mode": {
        "name": "ipython",
        "version": 3
      },
      "file_extension": ".py",
      "mimetype": "text/x-python",
      "name": "python",
      "nbconvert_exporter": "python",
      "pygments_lexer": "ipython3",
      "version": "3.6.8"
    },
    "colab": {
      "name": "Assignment_3_Prasad_02102021.ipynb",
      "provenance": [],
      "collapsed_sections": []
    }
  },
  "cells": [
    {
      "cell_type": "markdown",
      "metadata": {
        "id": "l0ZzOlyxB-kf"
      },
      "source": [
        "<h1>Python: without numpy or sklearn </h1>"
      ]
    },
    {
      "cell_type": "markdown",
      "metadata": {
        "id": "C0xO8JV9B-ki"
      },
      "source": [
        "<h3> Q1: Given two matrices please print the product of those two matrices </h3>\n",
        "<pre>\n",
        "\n",
        "Ex 1: A   = [[1 3 4]\n",
        "             [2 5 7]\n",
        "             [5 9 6]]\n",
        "      B   = [[1 0 0]\n",
        "             [0 1 0]\n",
        "             [0 0 1]]\n",
        "      A*B = [[1 3 4]\n",
        "             [2 5 7]\n",
        "             [5 9 6]]\n",
        "\n",
        "     \n",
        "Ex 2: A   = [[1 2]\n",
        "             [3 4]]\n",
        "      B   = [[1 2 3 4 5]\n",
        "             [5 6 7 8 9]]\n",
        "      A*B = [[11 14 17 20 23]\n",
        "             [23 30 36 42 51]]\n",
        "             \n",
        "Ex 3: A   = [[1 2]\n",
        "             [3 4]]\n",
        "      B   = [[1 4]\n",
        "             [5 6]\n",
        "             [7 8]\n",
        "             [9 6]]\n",
        "      A*B =Not possible\n",
        "</pre>"
      ]
    },
    {
      "cell_type": "code",
      "metadata": {
        "id": "rnssAfpgB-kj",
        "colab": {
          "base_uri": "https://localhost:8080/"
        },
        "outputId": "6b1d0cf5-dff7-42f6-ac8a-4e049600f4e5"
      },
      "source": [
        "# write your python code here\n",
        "# you can take the above example as sample input for your program to test\n",
        "# it should work for any general input try not to hard code for only given input examples\n",
        "\n",
        "\n",
        "# you can free to change all these codes/structure\n",
        "# here A and B are list of lists\n",
        "\n",
        "# This function returns the matrix created based on the rank\n",
        "def formMatrix(rnklst, ellst):\n",
        "  matrix=[]\n",
        "  for i in range(int(rnklst[0])):\n",
        "    row=[]\n",
        "    for j in range(i*int(rnklst[1]), (i+1)*int(rnklst[1])):\n",
        "      row.append(int(ellst[j]))\n",
        "    matrix.append(row)\n",
        "  return matrix\n",
        "\n",
        "# This function returns the multipied matrix\n",
        "def prodmatrix(matrixA, matrixB):\n",
        "  finallst=[]\n",
        "  for i in range(len(matrixA)):\n",
        "    lst=[]\n",
        "    for j in range(len(matrixB[0])):\n",
        "      count=0\n",
        "      for k in range(len(matrixA[0])):\n",
        "        #print(matrixA[i][k],matrixB[k][j])\n",
        "        count=count+matrixA[i][k]*matrixB[k][j]\n",
        "      lst.append(count)\n",
        "    finallst.append(lst)\n",
        "  return finallst\n",
        "\n",
        "A=input(\"Enter the rank of Matrix 'A':\")\n",
        "B=input(\"Enter the rank of Matrix 'B':\")\n",
        "rnkA=str.split(A,',')\n",
        "rnkB=str.split(B,',')\n",
        "if rnkA[1]==rnkB[0]:\n",
        "  eleA = input(\"Enter \"+str(int(rnkA[0])*int(rnkA[1]))+\" elements of Matrix 'A':\")\n",
        "  eleB = input(\"Enter \"+str(int(rnkB[0])*int(rnkB[1]))+\" elements of Matrix 'B':\")\n",
        "  strlstA=str.split(eleA,',')\n",
        "  strlstB=str.split(eleB,',')\n",
        "  finalMatrix=prodmatrix(formMatrix(rnkA, strlstA), formMatrix(rnkB, strlstB))\n",
        "  print(\"Multiplied Matrix is: \")\n",
        "  print(finalMatrix)\n",
        "else:\n",
        "  print(\"Matrix multiplication is not possible for given ranks\")\n",
        "\n",
        "\n",
        "\n"
      ],
      "execution_count": null,
      "outputs": [
        {
          "output_type": "stream",
          "text": [
            "Enter the rank of Matrix 'A':1,1\n",
            "Enter the rank of Matrix 'B':1,1\n",
            "Enter 1 elements of Matrix 'A':2\n",
            "Enter 1 elements of Matrix 'B':3\n",
            "Multiplied Matrix is: \n",
            "[[6]]\n"
          ],
          "name": "stdout"
        }
      ]
    },
    {
      "cell_type": "markdown",
      "metadata": {
        "id": "at4VwLggB-kn"
      },
      "source": [
        "<h3> Q2: Select a number randomly with probability proportional to its magnitude from the given array of n elements</h3>\n",
        "\n",
        "consider an experiment, selecting an element from the list A randomly with probability proportional to its magnitude.\n",
        "assume we are doing the same experiment for 100 times with replacement, in each experiment you will print a number that is selected randomly from A.\n",
        "\n",
        "<pre>\n",
        "Ex 1: A = [0 5 27 6 13 28 100 45 10 79]\n",
        "let f(x) denote the number of times x getting selected in 100 experiments.\n",
        "f(100) > f(79) > f(45) > f(28) > f(27) > f(13) > f(10) > f(6) > f(5) > f(0)\n",
        "</pre>"
      ]
    },
    {
      "cell_type": "code",
      "metadata": {
        "id": "B6S2dpBhB-kn",
        "colab": {
          "base_uri": "https://localhost:8080/"
        },
        "outputId": "905449a9-9d9b-4687-aa12-f35170324d73"
      },
      "source": [
        "import random\n",
        "nmber = input(\"Enter the numbers:\")\n",
        "nmbrlst = str.split(nmber,',')\n",
        "nmbrlstint = [int(x) for x in nmbrlst]\n",
        "weighnumlst=[]\n",
        "for i in nmbrlstint:\n",
        "  weighnumlst.append(i/sum(nmbrlstint))\n",
        "cumweighnumlst=[]\n",
        "tempsum=0\n",
        "for j in range(len(weighnumlst)):\n",
        "  tempsum+=weighnumlst[j]\n",
        "  cumweighnumlst.append(tempsum)\n",
        "for k in range(100):\n",
        "  ranNum=random.uniform(0.0,1.0)\n",
        "  for l in range(len(cumweighnumlst)):\n",
        "    if ranNum<=cumweighnumlst[l]:\n",
        "      break\n",
        "  print(nmbrlstint[l])\n"
      ],
      "execution_count": null,
      "outputs": [
        {
          "output_type": "stream",
          "name": "stdout",
          "text": [
            "Enter the numbers:0,5,27,6,13,28,100,45,10,79\n",
            "45\n",
            "45\n",
            "28\n",
            "10\n",
            "28\n",
            "100\n",
            "100\n",
            "28\n",
            "28\n",
            "100\n",
            "79\n",
            "45\n",
            "79\n",
            "6\n",
            "10\n",
            "28\n",
            "79\n",
            "100\n",
            "79\n",
            "45\n",
            "45\n",
            "100\n",
            "79\n",
            "45\n",
            "79\n",
            "13\n",
            "27\n",
            "13\n",
            "28\n",
            "27\n"
          ]
        }
      ]
    },
    {
      "cell_type": "markdown",
      "metadata": {
        "id": "D1xQy2WWB-kq"
      },
      "source": [
        "<h3> Q3: Replace the digits in the string with #</h3>\n",
        "\n",
        "consider a string that will have digits in that, we need to remove all the not digits and replace the digits with #\n",
        "<pre>\n",
        "Ex 1: A = 234                Output: ###\n",
        "Ex 2: A = a2b3c4             Output: ###\n",
        "Ex 3: A = abc                Output:   (empty string)\n",
        "Ex 5: A = #2a$#b%c%561#      Output: ####\n",
        "</pre>"
      ]
    },
    {
      "cell_type": "code",
      "metadata": {
        "id": "EjXIZe5IX5Q_"
      },
      "source": [
        "sa"
      ],
      "execution_count": null,
      "outputs": []
    },
    {
      "cell_type": "code",
      "metadata": {
        "id": "fxczi2jzB-kr",
        "colab": {
          "base_uri": "https://localhost:8080/",
          "height": 53
        },
        "outputId": "776f2773-e34b-4932-d374-bd94ee45aa42"
      },
      "source": [
        "import re\n",
        "strng=input(\"Enter a string:\")\n",
        "rstrng=re.sub('[^0-9]', '', strng)  # removes all the non numeric characters and keeps only 0-9 numerics \n",
        "re.sub('\\d', '#', rstrng)           # replaces all numerics with '#'\n",
        "\n",
        "  \n"
      ],
      "execution_count": null,
      "outputs": [
        {
          "output_type": "stream",
          "text": [
            "Enter a string: #2a$#b%c%561#\n"
          ],
          "name": "stdout"
        },
        {
          "output_type": "execute_result",
          "data": {
            "application/vnd.google.colaboratory.intrinsic+json": {
              "type": "string"
            },
            "text/plain": [
              "'####'"
            ]
          },
          "metadata": {},
          "execution_count": 45
        }
      ]
    },
    {
      "cell_type": "markdown",
      "metadata": {
        "id": "j7h0Ywg7B-kw"
      },
      "source": [
        "<h3> Q4: Students marks dashboard</h3>\n",
        "\n",
        "consider the marks list of class students given two lists <br>\n",
        "Students = ['student1','student2','student3','student4','student5','student6','student7','student8','student9','student10'] <br>\n",
        "Marks = [45, 78, 12, 14, 48, 43, 45, 98, 35, 80] <br>\n",
        "from the above two lists the Student[0] got Marks[0],  Student[1] got Marks[1] and so on <br><br>\n",
        "your task is to print the name of students\n",
        "<strong>a. Who got top 5 ranks, in the descending order of marks</strong> <br>\n",
        "<strong>b. Who got least 5 ranks, in the increasing order of marks</strong><br>\n",
        "<strong>d. Who got marks between  &gt;25th percentile &lt;75th percentile, in the increasing order of marks</strong>\n",
        "\n",
        "<pre>\n",
        "Ex 1: \n",
        "Students=['student1','student2','student3','student4','student5','student6','student7','student8','student9','student10'] \n",
        "Marks = [45, 78, 12, 14, 48, 43, 47, 98, 35, 80]\n",
        "a. \n",
        "student8  98\n",
        "student10 80\n",
        "student2  78\n",
        "student5  48\n",
        "student7  47\n",
        "b.\n",
        "student3 12\n",
        "student4 14\n",
        "student9 35\n",
        "student6 43\n",
        "student1 45\n",
        "c.\n",
        "student9 35\n",
        "student6 43\n",
        "student1 45\n",
        "student7 47\n",
        "student5 48\n",
        "</pre>"
      ]
    },
    {
      "cell_type": "code",
      "metadata": {
        "id": "cxPJgItsB-kx",
        "colab": {
          "base_uri": "https://localhost:8080/"
        },
        "outputId": "99c46a91-0481-42e0-9a15-5851edd12ff8"
      },
      "source": [
        "studName = input(\"Enter Student Names:\")\n",
        "studMarks = input(\"Enter Student Marks:\")\n",
        "sNamelst=str.split(studName,',')\n",
        "sMarkslst=str.split(studMarks, ',')\n",
        "sMarkslstint = [int(x) for x in sMarkslst]\n",
        "studdetails = {}\n",
        "for i in range(len(sNamelst)):\n",
        "  studdetails[sNamelst[i]] = sMarkslstint[i]\n",
        "descstudlst = sorted(studdetails.items(), key=lambda x:x[1], reverse=True)\n",
        "ascstudlst = sorted(studdetails.items(), key=lambda x:x[1])\n",
        "print(\"Top five students are:\")\n",
        "for j in range(5):\n",
        "  print(descstudlst[j][0])\n",
        "print(\"Least five students are:\")\n",
        "for k in range(5):\n",
        "  print(ascstudlst[k][0])\n",
        "percent_25 = 25*len(ascstudlst)//100\n",
        "percent_75 = 75*len(ascstudlst)//100\n",
        "print(\"25th Percentile Value:\"+str(ascstudlst[percent_25][1]))\n",
        "print(\"75th Percentile Value:\"+str(ascstudlst[percent_75][1]))\n",
        "print(\"Students between 25% and 75% values are:\")\n",
        "for l in range(len(ascstudlst)):\n",
        "  if ascstudlst[percent_25][1]<ascstudlst[l][1]<ascstudlst[percent_75][1]:\n",
        "    print(ascstudlst[l][0])\n",
        "\n",
        "\n",
        "\n",
        "\n",
        "                                                 "
      ],
      "execution_count": null,
      "outputs": [
        {
          "output_type": "stream",
          "name": "stdout",
          "text": [
            "Enter Student Names:'student1','student2','student3','student4','student5','student6','student7','student8','student9','student10'\n",
            "Enter Student Marks:45, 78, 12, 14, 48, 43, 47, 98, 35, 1000\n",
            "Top five students are:\n",
            "'student10'\n",
            "'student8'\n",
            "'student2'\n",
            "'student5'\n",
            "'student7'\n",
            "Least five students are:\n",
            "'student3'\n",
            "'student4'\n",
            "'student9'\n",
            "'student6'\n",
            "'student1'\n",
            "25th Percentile Value:35\n",
            "75th Percentile Value:78\n",
            "Students between 25% and 75% values are:\n",
            "'student6'\n",
            "'student1'\n",
            "'student7'\n",
            "'student5'\n"
          ]
        }
      ]
    },
    {
      "cell_type": "markdown",
      "metadata": {
        "id": "qha0OhQHB-k1"
      },
      "source": [
        "<h3> Q5: Find the closest points</h3>\n",
        "\n",
        "consider you have given n data points in the form of list of tuples like S=[(x1,y1),(x2,y2),(x3,y3),(x4,y4),(x5,y5),..,(xn,yn)] and a point P=(p,q) <br> your task is to find 5 closest points(based on cosine distance) in S from P\n",
        "<br>cosine distance between two points (x,y) and (p,q) is defind as $cos^{-1}(\\frac{(x\\cdot p+y\\cdot q)}{\\sqrt(x^2+y^2)\\cdot\\sqrt(p^2+q^2)})$\n",
        "<pre>\n",
        "Ex:\n",
        "\n",
        "S= [(1,2),(3,4),(-1,1),(6,-7),(0, 6),(-5,-8),(-1,-1)(6,0),(1,-1)]\n",
        "P= (3,-4)\n",
        "<img src='https://i.imgur.com/vIFPOcG.jpg', width=300>\n",
        "Output:\n",
        "(6,-7)\n",
        "(1,-1)\n",
        "(6,0)\n",
        "(-5,-8)\n",
        "(-1,-1)\n",
        "</pre>"
      ]
    },
    {
      "cell_type": "code",
      "metadata": {
        "id": "wA5I1g-2B-k2",
        "colab": {
          "base_uri": "https://localhost:8080/"
        },
        "outputId": "9a16346a-a49d-48dd-a2ff-15bf098755b3"
      },
      "source": [
        "\n",
        "\n",
        "def closest_points(data_pts_lst,mesure_pt):\n",
        "  dist_dict={}\n",
        "  for i in range(0,len(data_pts_lst),2):\n",
        "    dist = math.acos((data_pts_lst[i]*mesure_pt[0]+data_pts_lst[i+1]*mesure_pt[1])/((data_pts_lst[i]**2+data_pts_lst[i+1]**2)**0.5*((mesure_pt[0]**2+mesure_pt[1]**2)**0.5)))\n",
        "    dist_dict[dist]=(data_pts_lst[i],data_pts_lst[i+1])\n",
        "  print(dist_dict)\n",
        "  five_closepts=sorted(dist_dict.items(), key=lambda x:x[0])[:5]\n",
        "  return five_closepts\n",
        "\n",
        "data_pts=input(\"Enter n datapoints:\")\n",
        "mesure_pt=input(\"Enter the point which distance to be measured:\")\n",
        "data_pts=data_pts.replace(\"(\",\"\")\n",
        "data_pts=data_pts.replace(\")\",\"\")\n",
        "data_pts=data_pts.replace(\"[\",\"\")\n",
        "data_pts=data_pts.replace(\"]\",\"\")\n",
        "mesure_pt=mesure_pt.replace(\"(\",\"\")\n",
        "mesure_pt=mesure_pt.replace(\")\",\"\")\n",
        "data_pts = str.split(data_pts, ',')\n",
        "mesure_pt = str.split(mesure_pt, ',')\n",
        "data_pts_lst=[int(x) for x in data_pts]\n",
        "mesure_pt=[int(x) for x in mesure_pt]\n",
        "five_closepts = closest_points(data_pts_lst,mesure_pt)\n",
        "print(\"The 5 closest points are:\")\n",
        "for i in range(len(five_closepts)):\n",
        "  print(five_closepts[i][1])\n",
        "\n",
        "    \n"
      ],
      "execution_count": null,
      "outputs": [
        {
          "output_type": "stream",
          "name": "stdout",
          "text": [
            "Enter n datapoints:(1,2),(3,4),(-1,1),(6,-7),(0, 6),(-5,-8),(-1,-1),(6,0),(1,-1)\n",
            "Enter the point which distance to be measured:(3,-4)\n",
            "{2.0344439357957027: (1, 2), 1.8545904360032246: (3, 4), 2.9996955989856287: (-1, 1), 0.06512516333438509: (6, -7), 2.498091544796509: (0, 6), 1.2021004241368467: (-5, -8), 1.4288992721907328: (-1, -1), 0.9272952180016123: (6, 0), 0.14189705460416438: (1, -1)}\n",
            "The 5 closest points are:\n",
            "(6, -7)\n",
            "(1, -1)\n",
            "(6, 0)\n",
            "(-5, -8)\n",
            "(-1, -1)\n"
          ]
        }
      ]
    },
    {
      "cell_type": "markdown",
      "metadata": {
        "id": "-g11jeAiB-k5"
      },
      "source": [
        "<h3> Q6: Find Which line separates oranges and apples</h3>\n",
        "consider you have given two set of data points in the form of list of tuples like \n",
        "<pre>\n",
        "Red =[(R11,R12),(R21,R22),(R31,R32),(R41,R42),(R51,R52),..,(Rn1,Rn2)]\n",
        "Blue=[(B11,B12),(B21,B22),(B31,B32),(B41,B42),(B51,B52),..,(Bm1,Bm2)]\n",
        "</pre>\n",
        "and set of line equations(in the string formate, i.e list of strings)\n",
        "<pre>\n",
        "Lines = [a1x+b1y+c1,a2x+b2y+c2,a3x+b3y+c3,a4x+b4y+c4,..,K lines]\n",
        "Note: you need to string parsing here and get the coefficients of x,y and intercept\n",
        "</pre>\n",
        "your task is to for each line that is given print \"YES\"/\"NO\", you will print yes, if all the red points are one side of the line and blue points are other side of the line, otherwise no\n",
        "<pre>\n",
        "Ex:\n",
        "Red= [(1,1),(2,1),(4,2),(2,4), (-1,4)]\n",
        "Blue= [(-2,-1),(-1,-2),(-3,-2),(-3,-1),(1,-3)]\n",
        "Lines=[\"1x+1y+0\",\"1x-1y+0\",\"1x+0y-3\",\"0x+1y-0.5\"]\n",
        "<img src='https://i.imgur.com/DoQf7mE.jpg' width=400>\n",
        "Output:\n",
        "YES\n",
        "NO\n",
        "NO\n",
        "YES\n",
        "</pre>"
      ]
    },
    {
      "cell_type": "code",
      "metadata": {
        "id": "eRxExaTRB-k6",
        "colab": {
          "base_uri": "https://localhost:8080/"
        },
        "outputId": "9f9d24dd-20be-496f-b1bc-3ce44c864f29"
      },
      "source": [
        "# Executes multiplication for given string equation and retuns product of each point as a list \n",
        "# Addition or subtraction symbols should be eliminated before calling this function\n",
        "def Multiply(pts_lst,eqn):\n",
        "  product_lst = []\n",
        "  for pt in pts_lst:\n",
        "    num_product = 1\n",
        "    if len(eqn) > 0:\n",
        "      if eqn.find(\"x\") > -1 and eqn.find(\"y\") > -1:\n",
        "        eqn1 = eqn.replace(\"x\",\"*\"+str(pt[0]))\n",
        "        eqn1 = eqn1.replace(\"y\",\"*\"+str(pt[1]))\n",
        "      elif eqn.find(\"x\") > -1:\n",
        "        eqn1 = eqn.replace(\"x\",\"*\"+str(pt[0]))\n",
        "      elif eqn.find(\"y\") > -1:\n",
        "        eqn1 = eqn.replace(\"y\",\"*\"+str(pt[1]))\n",
        "      else:\n",
        "        eqn1 = eqn\n",
        "      lst = eqn1.split(\"*\")\n",
        "      for elem in lst:\n",
        "        num_product = num_product*float(elem)\n",
        "    product_lst.append(num_product)\n",
        "  return product_lst\n",
        "\n",
        "# This function retuns whether each point lies on positive or negative side \n",
        "def yes_or_No_Seperation(pts_lst,lineEq):\n",
        "  if lineEq.find(\"+\") or lineEq.find(\"-\") > -1:\n",
        "    # splits the given line equation using + symbol\n",
        "    pos_line_lst = lineEq.split(\"+\")\n",
        "    Pos_Multi_lst = []\n",
        "    for i in pos_line_lst:\n",
        "      Neg_Multi_lst = []\n",
        "      # splits the given line equation using - symbol\n",
        "      if i.find(\"-\") > -1:\n",
        "        neg_line_lst = i.split(\"-\")\n",
        "        for j in neg_line_lst:\n",
        "          multi_lst = Multiply(pts_lst,j)\n",
        "          Neg_Multi_lst.append(multi_lst)\n",
        "        # finds the difference for each point in the list\n",
        "        for counter in range(len(Neg_Multi_lst)-1):\n",
        "          if counter == 0:\n",
        "            nlist1 = Neg_Multi_lst[counter]\n",
        "          nlist2 = Neg_Multi_lst[counter+1]\n",
        "          diff_list = []\n",
        "          for i in range(len(nlist1)):\n",
        "            difference = nlist1[i]-nlist2[i]\n",
        "            diff_list.append(difference)\n",
        "          nlist1 = diff_list.copy()\n",
        "        Pos_Multi_lst.append(nlist1)\n",
        "      else:\n",
        "        multi_lst = Multiply(pts_lst,i)\n",
        "        Pos_Multi_lst.append(multi_lst)\n",
        "    # finds the sum for each point in the list\n",
        "    for counter in range(len(Pos_Multi_lst)-1):\n",
        "      if counter == 0:\n",
        "        plist1 = Pos_Multi_lst[counter]\n",
        "      plist2 = Pos_Multi_lst[counter+1]\n",
        "      sum_list = []\n",
        "      for i in range(len(plist1)):\n",
        "        sum = plist1[i]+plist2[i]\n",
        "        sum_list.append(sum)\n",
        "      plist1 = sum_list.copy()\n",
        "    yes_or_no_lst = []\n",
        "    for item in plist1:\n",
        "      if item >= 0:\n",
        "        yes_or_no_lst.append(\"Yes\")\n",
        "      else:\n",
        "        yes_or_no_lst.append(\"No\")\n",
        "  return yes_or_no_lst\n",
        "\n",
        "# Input for the code\n",
        "Red= [(1,1),(2,1),(4,2),(2,4),(-1,4),(-6,2)]\n",
        "Blue= [(-2,-1),(-1,-2),(-3,-2),(-3,-1),(1,-3),(2.3,-0.9)]\n",
        "Lines=[\"1x+1y+0\",\"1x-1y+0\",\"1x+0y-3\",\"0x+1y-0.5\",\"0.5xy+7x-3y-235.26\"]\n",
        "\n",
        "# for each line equation it takes the red point list, blue point list and evaluates on which side those points are lying\n",
        "for line in Lines:\n",
        "  rdptlst = yes_or_No_Seperation(Red,line)\n",
        "  bluptlst = yes_or_No_Seperation(Blue,line)\n",
        "  if (rdptlst.count(\"Yes\") == len(rdptlst) and bluptlst.count(\"No\") == len(bluptlst)) or (bluptlst.count(\"Yes\") == len(bluptlst) and rdptlst.count(\"No\") == len(rdptlst)):\n",
        "    print(\"Yes\")\n",
        "  else:\n",
        "    print(\"No\")\n",
        " "
      ],
      "execution_count": null,
      "outputs": [
        {
          "output_type": "stream",
          "name": "stdout",
          "text": [
            "No\n",
            "No\n",
            "No\n",
            "Yes\n",
            "No\n"
          ]
        }
      ]
    },
    {
      "cell_type": "markdown",
      "metadata": {
        "id": "9OBpURbNB-k9"
      },
      "source": [
        "<h3> Q7: Filling the missing values in the specified formate</h3>\n",
        "You will be given a string with digits and '\\_'(missing value) symbols you have to replace the '\\_' symbols as explained \n",
        "<pre>\n",
        "Ex 1: _, _, _, 24 ==> 24/4, 24/4, 24/4, 24/4 i.e we. have distributed the 24 equally to all 4 places <br>\n",
        "Ex 2: 40, _, _, _, 60 ==> (60+40)/5,(60+40)/5,(60+40)/5,(60+40)/5,(60+40)/5 ==> 20, 20, 20, 20, 20 i.e. the sum of (60+40) is distributed qually to all 5 places<br>\n",
        "Ex 3: 80, _, _, _, _  ==> 80/5,80/5,80/5,80/5,80/5 ==> 16, 16, 16, 16, 16 i.e. the 80 is distributed qually to all 5 missing values that are right to it<br>\n",
        "Ex 4: _, _, 30, _, _, _, 50, _, _  \n",
        "==> we will fill the missing values from left to right \n",
        "    a. first we will distribute the 30 to left two missing values (10, 10, 10, _, _, _, 50, _, _)\n",
        "    b. now distribute the sum (10+50) missing values in between (10, 10, 12, 12, 12, 12, 12, _, _) \n",
        "    c. now we will distribute 12 to right side missing values (10, 10, 12, 12, 12, 12, 4, 4, 4)\n",
        "</pre>\n",
        "for a given string with comma seprate values, which will have both missing values numbers like ex: \"_, _, x, _, _, _\"\n",
        "you need fill the missing values\n",
        "\n",
        "Q: your program reads a string like ex: \"_, _, x, _, _, _\" and returns the filled sequence\n",
        "\n",
        "Ex: \n",
        "<pre>\n",
        "Input1: \"_,_,_,24\"\n",
        "Output1: 6,6,6,6\n",
        "\n",
        "Input2: \"40,_,_,_,60\"\n",
        "Output2: 20,20,20,20,20\n",
        "\n",
        "Input3: \"80,_,_,_,_\"\n",
        "Output3: 16,16,16,16,16\n",
        "\n",
        "Input4: \"_,_,30,_,_,_,50,_,_\"\n",
        "Output4: 10,10,12,12,12,12,4,4,4\n",
        "</pre>\n",
        "\n"
      ]
    },
    {
      "cell_type": "code",
      "metadata": {
        "id": "nZmpzHs_B-k-",
        "colab": {
          "base_uri": "https://localhost:8080/"
        },
        "outputId": "5cadd5df-1465-429d-c722-6c8fad33503f"
      },
      "source": [
        "# Given number is divided by length of the list and returns the same length list by filling the calculated number\n",
        "def only_one_numeric(number, lst):\n",
        "  mod_lst = []\n",
        "  num = int(number)//len(lst)\n",
        "  for j in range(len(lst)): \n",
        "    mod_lst.append(num)\n",
        "  return mod_lst\n",
        "# Calculates the average of given list and fill the same number at each position of the list, returns the list\n",
        "def first_last_numeric(lst):\n",
        "  mod_lst = []\n",
        "  num = (int(lst[0])+int(lst[len(lst)-1]))//len(lst)\n",
        "  for j in range(len(lst)): \n",
        "    mod_lst.append(num)\n",
        "  return mod_lst\n",
        "# based on the input series this calls the appropriate function and fills the series\n",
        "def fill_series(ser_lst):\n",
        "  pos_lst=[]\n",
        "  for i in range(len(ser_lst)):\n",
        "    if ser_lst[i].isnumeric() == True:\n",
        "      pos_lst.append(i)\n",
        "  if len(pos_lst) == 1:\n",
        "    mod_ser_lst = only_one_numeric(ser_lst[pos_lst[0]], ser_lst)\n",
        "  elif len(pos_lst) == 2 and ser_lst[pos_lst[0]].isnumeric()==True and ser_lst[len(ser_lst)-1].isnumeric()==True:\n",
        "    mod_ser_lst = first_last_numeric(ser_lst)\n",
        "  else:\n",
        "    mod_ser_lst = []\n",
        "    for pos in range(len(pos_lst)):\n",
        "      if pos_lst[pos] == 0:\n",
        "        ser_lst1 = ser_lst[:pos_lst[pos+1]+1]\n",
        "        mod_ser_lst1 = first_last_numeric(ser_lst1)\n",
        "        mod_ser_lst.append(mod_ser_lst1)\n",
        "      elif pos == 1 and pos_lst[pos-1] == 0:\n",
        "        continue\n",
        "      else:\n",
        "        if pos ==0:\n",
        "          ser_lst1 = ser_lst[:pos_lst[pos]+1]\n",
        "          mod_ser_lst1 = only_one_numeric(ser_lst[pos_lst[pos]], ser_lst1)\n",
        "          mod_ser_lst.extend(mod_ser_lst1)\n",
        "        else:\n",
        "          ser_lst1 = ser_lst[pos_lst[pos-1]+1:pos_lst[pos]+1]\n",
        "          calc_num = int(ser_lst[pos_lst[pos]])//(pos_lst[pos]-pos_lst[pos-1])\n",
        "          mod_ser_lst[len(mod_ser_lst)-1] = calc_num\n",
        "          mod_ser_lst1 = only_one_numeric(ser_lst[pos_lst[pos]], ser_lst1)\n",
        "          mod_ser_lst.extend(mod_ser_lst1)\n",
        "          if pos == len(pos_lst)-1 and len(ser_lst) > pos_lst[pos]:\n",
        "            ser_lst[pos_lst[pos]] = mod_ser_lst[len(mod_ser_lst)-1]\n",
        "            ser_lst1 = ser_lst[pos_lst[pos]:]\n",
        "            calc_num = int(ser_lst[pos_lst[pos]])//(len(ser_lst)-pos_lst[pos])\n",
        "            mod_ser_lst[len(mod_ser_lst)-1] = calc_num\n",
        "            mod_ser_lst1 = only_one_numeric(ser_lst[pos_lst[pos]], ser_lst1)\n",
        "            mod_ser_lst1 = mod_ser_lst1[:len(mod_ser_lst1)-1]\n",
        "            mod_ser_lst.extend(mod_ser_lst1)\n",
        "  return mod_ser_lst\n",
        "# accesing input\n",
        "series = input(\"Enter the series: \")\n",
        "ser_lst = series.split(\",\")\n",
        "filled_series = fill_series(ser_lst)\n",
        "#printing final filled series\n",
        "print(\"Series is filled as below:\")\n",
        "print(filled_series)\n"
      ],
      "execution_count": null,
      "outputs": [
        {
          "output_type": "stream",
          "name": "stdout",
          "text": [
            "Enter the series: _,_,30,_,_,_,50,_,_\n",
            "Series is filled as below:\n",
            "[10, 10, 12, 12, 12, 12, 4, 4, 4]\n"
          ]
        }
      ]
    },
    {
      "cell_type": "markdown",
      "metadata": {
        "id": "RBz4pzlfB-lB"
      },
      "source": [
        "<h3> Q8: Filling the missing values in the specified formate</h3>\n",
        "You will be given a list of lists, each sublist will be of length 2 i.e. [[x,y],[p,q],[l,m]..[r,s]]\n",
        "consider its like a martrix of n rows and two columns\n",
        "1. the first column F will contain only 5 uniques values (F1, F2, F3, F4, F5)\n",
        "2. the second column S will contain only 3 uniques values (S1, S2, S3)\n",
        "<pre>\n",
        "your task is to find\n",
        "a. Probability of P(F=F1|S==S1), P(F=F1|S==S2), P(F=F1|S==S3)\n",
        "b. Probability of P(F=F2|S==S1), P(F=F2|S==S2), P(F=F2|S==S3)\n",
        "c. Probability of P(F=F3|S==S1), P(F=F3|S==S2), P(F=F3|S==S3)\n",
        "d. Probability of P(F=F4|S==S1), P(F=F4|S==S2), P(F=F4|S==S3)\n",
        "e. Probability of P(F=F5|S==S1), P(F=F5|S==S2), P(F=F5|S==S3)\n",
        "</pre>\n",
        "Ex:\n",
        "\n",
        "<pre>\n",
        "[[F1,S1],[F2,S2],[F3,S3],[F1,S2],[F2,S3],[F3,S2],[F2,S1],[F4,S1],[F4,S3],[F5,S1]]\n",
        "\n",
        "a. P(F=F1|S==S1)=1/4, P(F=F1|S==S2)=1/3, P(F=F1|S==S3)=0/3\n",
        "b. P(F=F2|S==S1)=1/4, P(F=F2|S==S2)=1/3, P(F=F2|S==S3)=1/3\n",
        "c. P(F=F3|S==S1)=0/4, P(F=F3|S==S2)=1/3, P(F=F3|S==S3)=1/3\n",
        "d. P(F=F4|S==S1)=1/4, P(F=F4|S==S2)=0/3, P(F=F4|S==S3)=1/3\n",
        "e. P(F=F5|S==S1)=1/4, P(F=F5|S==S2)=0/3, P(F=F5|S==S3)=0/3\n",
        "</pre>\n",
        "\n",
        "\n"
      ]
    },
    {
      "cell_type": "code",
      "metadata": {
        "id": "e-1giz1MB-lC",
        "colab": {
          "base_uri": "https://localhost:8080/"
        },
        "outputId": "e3dd4c90-c6be-4918-bd1c-81ec632e9896"
      },
      "source": [
        "# input matrix\n",
        "matA = [['F1','S1'],['F2','S2'],['F3','S3'],['F1','S2'],['F2','S3'],['F3','S2'],['F2','S1'],['F4','S1'],['F4','S3'],['F5','S1']]\n",
        "fist_col = []\n",
        "second_col = []\n",
        "# creating two lists, Lst 1 consists of first and second column combination and lst 2 consists of only second column\n",
        "for i in matA:\n",
        "  fist_col.append(i[0]+i[1])\n",
        "  second_col.append(i[1])\n",
        "# prining the probabilities based on the condition\n",
        "print(\"P(F=F1|S==S1)=\"+str(fist_col.count('F1S1')/second_col.count('S1'))+\", \"+\"P(F=F1|S==S2)=\"+str(fist_col.count('F1S2')/second_col.count('S2'))+\", \"+\"P(F=F1|S==S3)=\"+str(fist_col.count('F1S3')/second_col.count('S3')))\n",
        "print(\"P(F=F2|S==S1)=\"+str(fist_col.count('F2S1')/second_col.count('S1'))+\", \"+\"P(F=F2|S==S2)=\"+str(fist_col.count('F2S2')/second_col.count('S2'))+\", \"+\"P(F=F2|S==S3)=\"+str(fist_col.count('F2S3')/second_col.count('S3')))\n",
        "print(\"P(F=F3|S==S1)=\"+str(fist_col.count('F3S1')/second_col.count('S1'))+\", \"+\"P(F=F3|S==S2)=\"+str(fist_col.count('F3S2')/second_col.count('S2'))+\", \"+\"P(F=F3|S==S3)=\"+str(fist_col.count('F3S3')/second_col.count('S3')))\n",
        "print(\"P(F=F4|S==S1)=\"+str(fist_col.count('F4S1')/second_col.count('S1'))+\", \"+\"P(F=F4|S==S2)=\"+str(fist_col.count('F4S2')/second_col.count('S2'))+\", \"+\"P(F=F4|S==S3)=\"+str(fist_col.count('F4S3')/second_col.count('S3')))\n",
        "print(\"P(F=F5|S==S1)=\"+str(fist_col.count('F5S1')/second_col.count('S1'))+\", \"+\"P(F=F5|S==S2)=\"+str(fist_col.count('F5S2')/second_col.count('S2'))+\", \"+\"P(F=F5|S==S3)=\"+str(fist_col.count('F5S3')/second_col.count('S3')))"
      ],
      "execution_count": 37,
      "outputs": [
        {
          "output_type": "stream",
          "name": "stdout",
          "text": [
            "P(F=F1|S==S1)=0.25, P(F=F1|S==S2)=0.3333333333333333, P(F=F1|S==S3)=0.0\n",
            "P(F=F2|S==S1)=0.25, P(F=F2|S==S2)=0.3333333333333333, P(F=F2|S==S3)=0.3333333333333333\n",
            "P(F=F3|S==S1)=0.0, P(F=F3|S==S2)=0.3333333333333333, P(F=F3|S==S3)=0.3333333333333333\n",
            "P(F=F4|S==S1)=0.25, P(F=F4|S==S2)=0.0, P(F=F4|S==S3)=0.3333333333333333\n",
            "P(F=F5|S==S1)=0.25, P(F=F5|S==S2)=0.0, P(F=F5|S==S3)=0.0\n"
          ]
        }
      ]
    },
    {
      "cell_type": "markdown",
      "metadata": {
        "id": "n4HS87QmB-lF"
      },
      "source": [
        "<h3> Q9: Given two sentances S1, S2</h3>\n",
        "You will be given two sentances S1, S2 your task is to find \n",
        "<pre>\n",
        "a. Number of common words between S1, S2\n",
        "b. Words in S1 but not in S2\n",
        "c. Words in S2 but not in S1\n",
        "</pre>\n",
        "\n",
        "Ex: \n",
        "<pre>\n",
        "S1= \"the first column F will contain only 5 uniques values\"\n",
        "S2= \"the second column S will contain only 3 uniques values\"\n",
        "Output:\n",
        "a. 7\n",
        "b. ['first','F','5']\n",
        "c. ['second','S','3']\n",
        "</pre>"
      ]
    },
    {
      "cell_type": "code",
      "metadata": {
        "id": "Ez7hlHK0B-lG",
        "colab": {
          "base_uri": "https://localhost:8080/"
        },
        "outputId": "2df05a53-1ca8-4e81-8a3c-c17385ba7ff8"
      },
      "source": [
        "# Accessing inputs\n",
        "sent1 = input(\"Enter the sentence1: \")\n",
        "sent2 = input(\"Enter the sentence2: \")\n",
        "# Splitting the string into sentences\n",
        "sent1_lst = sent1.split(\" \")\n",
        "sent2_lst = sent2.split(\" \")\n",
        "# Converting list to set\n",
        "sent1_set = set(sent1_lst)\n",
        "sent2_set = set(sent2_lst)\n",
        "# finding intersection for sets\n",
        "no_of_comonwrds = len(sent1_set.intersection(sent2_set))\n",
        "print(no_of_comonwrds)\n",
        "# fnding S1-S2 and S2-S1\n",
        "Wrds_S1_nt_S2 = sent1_set.difference(sent2_set)\n",
        "Wrds_S2_nt_S1 = sent2_set.difference(sent1_set)\n",
        "print(Wrds_S1_nt_S2)\n",
        "print(Wrds_S2_nt_S1)\n"
      ],
      "execution_count": 2,
      "outputs": [
        {
          "output_type": "stream",
          "name": "stdout",
          "text": [
            "Enter the sentence1: the first column F will contain only 5 uniques values\n",
            "Enter the sentence2: the second column S will contain only 3 uniques values\n",
            "7\n",
            "{'first', '5', 'F'}\n",
            "{'S', '3', 'second'}\n"
          ]
        }
      ]
    },
    {
      "cell_type": "markdown",
      "metadata": {
        "id": "XefXVEjCB-lI"
      },
      "source": [
        "<h3> Q10: Given two sentances S1, S2</h3>\n",
        "You will be given a list of lists, each sublist will be of length 2 i.e. [[x,y],[p,q],[l,m]..[r,s]]\n",
        "consider its like a martrix of n rows and two columns\n",
        "\n",
        "a. the first column Y will contain interger values <br>\n",
        "b. the second column $Y_{score}$ will be having float values <br>\n",
        "Your task is to find the value of $f(Y,Y_{score}) = -1*\\frac{1}{n}\\Sigma_{for each Y,Y_{score} pair}(Ylog10(Y_{score})+(1-Y)log10(1-Y_{score}))$ here n is the number of rows in the matrix\n",
        "<pre>\n",
        "Ex:\n",
        "[[1, 0.4], [0, 0.5], [0, 0.9], [0, 0.3], [0, 0.6], [1, 0.1], [1, 0.9], [1, 0.8]]\n",
        "output:\n",
        "0.4243099\n",
        "</pre>\n",
        "$\\frac{-1}{8}\\cdot((1\\cdot log_{10}(0.4)+0\\cdot log_{10}(0.6))+(0\\cdot log_{10}(0.5)+1\\cdot log_{10}(0.5)) + ... + (1\\cdot log_{10}(0.8)+0\\cdot log_{10}(0.2)) )$"
      ]
    },
    {
      "cell_type": "code",
      "metadata": {
        "id": "N9zkagyNB-lJ",
        "colab": {
          "base_uri": "https://localhost:8080/"
        },
        "outputId": "b9ae8e46-edd1-4286-a804-55a2f6ad73bb"
      },
      "source": [
        "import math\n",
        "# input point list\n",
        "pts_lst = [[1, 0.4], [0, 0.5], [0, 0.9], [0, 0.3], [0, 0.6], [1, 0.1], [1, 0.9], [1, 0.8]]\n",
        "calc_num = 0\n",
        "# performing math operation based on the formula\n",
        "for i in pts_lst:\n",
        "  num = i[0]*math.log10(i[1])+(1-i[0])*math.log10(1-i[1])\n",
        "  calc_num+=num\n",
        "calc_num = -1/len(pts_lst)*calc_num\n",
        "print(calc_num)\n"
      ],
      "execution_count": 14,
      "outputs": [
        {
          "output_type": "stream",
          "name": "stdout",
          "text": [
            "0.42430993457031635\n"
          ]
        }
      ]
    }
  ]
}